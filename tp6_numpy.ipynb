{
 "cells": [
  {
   "attachments": {},
   "cell_type": "markdown",
   "metadata": {},
   "source": [
    "Exercice 1"
   ]
  },
  {
   "cell_type": "code",
   "execution_count": 83,
   "metadata": {},
   "outputs": [
    {
     "data": {
      "text/plain": [
       "array([[[1, 4]],\n",
       "\n",
       "       [[2, 5]],\n",
       "\n",
       "       [[3, 6]]])"
      ]
     },
     "execution_count": 83,
     "metadata": {},
     "output_type": "execute_result"
    }
   ],
   "source": [
    "import numpy as np\n",
    "\n",
    "data = np.array([[[1,2,3],[4,5,6]]])\n",
    "np.transpose(data, (2,0,1))\n",
    "\n"
   ]
  },
  {
   "attachments": {},
   "cell_type": "markdown",
   "metadata": {},
   "source": [
    "Exercice 2"
   ]
  },
  {
   "cell_type": "code",
   "execution_count": 84,
   "metadata": {},
   "outputs": [
    {
     "data": {
      "text/plain": [
       "array([[ 0,  2,  3,  4,  5,  6,  7],\n",
       "       [ 1, 13, 13, 34, 12, 42, 48]])"
      ]
     },
     "execution_count": 84,
     "metadata": {},
     "output_type": "execute_result"
    }
   ],
   "source": [
    "data = np.array([[3,4,6,0,2,5,7],[13,34,42,1,13,12,48]]) \n",
    "\n",
    "\n",
    "n = np.argsort(data[0])\n",
    "result = np.array([data[0, n], data[1, n]])\n",
    "result"
   ]
  },
  {
   "attachments": {},
   "cell_type": "markdown",
   "metadata": {},
   "source": [
    "Exercice 3"
   ]
  },
  {
   "cell_type": "code",
   "execution_count": 85,
   "metadata": {},
   "outputs": [
    {
     "data": {
      "text/plain": [
       "array([[ 10,   0, 200],\n",
       "       [300, 700, 400],\n",
       "       [820, 800, 810]])"
      ]
     },
     "execution_count": 85,
     "metadata": {},
     "output_type": "execute_result"
    }
   ],
   "source": [
    "a = np.array([ [0, 10, 200],\n",
    " [300, 400, 700],\n",
    " [800, 810, 820]])\n",
    "\n",
    "i = np.array([ [1, 0, 2],\n",
    " [0, 2, 1],\n",
    " [2, 0, 1]])\n",
    "\n",
    "\n",
    "result = np.array([a[0, i[0]], a[1, i[1]], a[2, i[2]]])\n",
    "result"
   ]
  },
  {
   "attachments": {},
   "cell_type": "markdown",
   "metadata": {},
   "source": [
    "Exercice 4"
   ]
  },
  {
   "cell_type": "code",
   "execution_count": 130,
   "metadata": {},
   "outputs": [
    {
     "data": {
      "text/plain": [
       "array([[ True, False,  True,  True],\n",
       "       [False,  True, False, False]])"
      ]
     },
     "execution_count": 130,
     "metadata": {},
     "output_type": "execute_result"
    }
   ],
   "source": [
    "A = np.array([[301,101,201,0], [41,51,21,11]]) \n",
    "a = A[0] > A[1]\n",
    "B = np.array([a, ~a])\n",
    "B[:, [1,3]] = B[:, [3,1]] \n",
    "B"
   ]
  },
  {
   "attachments": {},
   "cell_type": "markdown",
   "metadata": {},
   "source": [
    "Exercice 5"
   ]
  },
  {
   "cell_type": "code",
   "execution_count": 87,
   "metadata": {},
   "outputs": [
    {
     "data": {
      "text/plain": [
       "array([[ 3,  2,  3,  4,  7],\n",
       "       [ 8,  7,  8,  9, 12],\n",
       "       [13, 12, 13, 14, 17],\n",
       "       [18, 17, 18, 19, 22]])"
      ]
     },
     "execution_count": 87,
     "metadata": {},
     "output_type": "execute_result"
    }
   ],
   "source": [
    "A = np.array([[ 1, 2, 3, 4, 5],\n",
    "[ 6, 7, 8, 9, 10],\n",
    "[11, 12, 13, 14, 15],\n",
    "[16, 17, 18, 19, 20]])\n",
    "\n",
    "\n",
    "A[:,[0,-1]] += 2\n",
    "A\n"
   ]
  },
  {
   "attachments": {},
   "cell_type": "markdown",
   "metadata": {},
   "source": [
    "Exercice 6"
   ]
  },
  {
   "cell_type": "code",
   "execution_count": 133,
   "metadata": {},
   "outputs": [
    {
     "data": {
      "text/plain": [
       "array([[0., 9., 0., 9., 0.],\n",
       "       [0., 0., 0., 0., 0.],\n",
       "       [0., 0., 0., 0., 0.],\n",
       "       [0., 0., 0., 0., 0.]])"
      ]
     },
     "execution_count": 133,
     "metadata": {},
     "output_type": "execute_result"
    }
   ],
   "source": [
    "\n",
    "L = 5\n",
    "H = 4\n",
    "\n",
    "d = np.zeros((H,L))\n",
    "if ( L >= 2 and H >= 1):\n",
    "    d[0, [1, L - 2]] = 9.0\n",
    "else :\n",
    "    print(\"Erreur de dimmension\")\n",
    "d"
   ]
  },
  {
   "attachments": {},
   "cell_type": "markdown",
   "metadata": {},
   "source": [
    "Exercice 7"
   ]
  },
  {
   "cell_type": "code",
   "execution_count": 132,
   "metadata": {},
   "outputs": [
    {
     "data": {
      "text/plain": [
       "array([0, 2, 4])"
      ]
     },
     "execution_count": 132,
     "metadata": {},
     "output_type": "execute_result"
    }
   ],
   "source": [
    "#7\n",
    "\n",
    "d = np.array([1,2,3,4,5,6,7,8,9,0])\n",
    "m = np.array([[0,1,0,1,0,0,0,0,0,1]])\n",
    "\n",
    "np.sort(d[np.squeeze(m) == 1])"
   ]
  }
 ],
 "metadata": {
  "kernelspec": {
   "display_name": "Python 3",
   "language": "python",
   "name": "python3"
  },
  "language_info": {
   "codemirror_mode": {
    "name": "ipython",
    "version": 3
   },
   "file_extension": ".py",
   "mimetype": "text/x-python",
   "name": "python",
   "nbconvert_exporter": "python",
   "pygments_lexer": "ipython3",
   "version": "3.7.7"
  },
  "orig_nbformat": 4
 },
 "nbformat": 4,
 "nbformat_minor": 2
}
