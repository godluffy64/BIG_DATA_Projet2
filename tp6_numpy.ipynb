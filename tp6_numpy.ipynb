{
 "cells": [
  {
   "attachments": {},
   "cell_type": "markdown",
   "metadata": {},
   "source": [
    "Exercice 1"
   ]
  },
  {
   "cell_type": "code",
   "execution_count": 2,
   "metadata": {},
   "outputs": [
    {
     "data": {
      "text/plain": [
       "array([[[1, 4]],\n",
       "\n",
       "       [[2, 5]],\n",
       "\n",
       "       [[3, 6]]])"
      ]
     },
     "execution_count": 2,
     "metadata": {},
     "output_type": "execute_result"
    }
   ],
   "source": [
    "import numpy as np\n",
    "\n",
    "data = np.array([[[1,2,3],[4,5,6]]])\n",
    "np.transpose(data, (2,0,1))"
   ]
  },
  {
   "attachments": {},
   "cell_type": "markdown",
   "metadata": {},
   "source": [
    "Exercice 2"
   ]
  },
  {
   "cell_type": "code",
   "execution_count": 3,
   "metadata": {},
   "outputs": [
    {
     "data": {
      "text/plain": [
       "array([[ 0,  2,  3,  4,  5,  6,  7],\n",
       "       [ 1, 13, 13, 34, 12, 42, 48]])"
      ]
     },
     "execution_count": 3,
     "metadata": {},
     "output_type": "execute_result"
    }
   ],
   "source": [
    "data = np.array([[3,4,6,0,2,5,7],[13,34,42,1,13,12,48]]) \n",
    "\n",
    "n = np.argsort(data[0])\n",
    "result = np.array([data[0, n], data[1, n]])\n",
    "result"
   ]
  },
  {
   "attachments": {},
   "cell_type": "markdown",
   "metadata": {},
   "source": [
    "Exercice 3"
   ]
  },
  {
   "cell_type": "code",
   "execution_count": 4,
   "metadata": {},
   "outputs": [
    {
     "data": {
      "text/plain": [
       "array([[ 10,   0, 200],\n",
       "       [300, 700, 400],\n",
       "       [820, 800, 810]])"
      ]
     },
     "execution_count": 4,
     "metadata": {},
     "output_type": "execute_result"
    }
   ],
   "source": [
    "a = np.array([ [0, 10, 200],\n",
    " [300, 400, 700],\n",
    " [800, 810, 820]])\n",
    "\n",
    "i = np.array([ [1, 0, 2],\n",
    " [0, 2, 1],\n",
    " [2, 0, 1]])\n",
    "\n",
    "\n",
    "result = np.array([a[0, i[0]], a[1, i[1]], a[2, i[2]]])\n",
    "result"
   ]
  },
  {
   "attachments": {},
   "cell_type": "markdown",
   "metadata": {},
   "source": [
    "Exercice 4"
   ]
  },
  {
   "cell_type": "code",
   "execution_count": 5,
   "metadata": {},
   "outputs": [
    {
     "data": {
      "text/plain": [
       "array([[ True, False,  True,  True],\n",
       "       [False,  True, False, False]])"
      ]
     },
     "execution_count": 5,
     "metadata": {},
     "output_type": "execute_result"
    }
   ],
   "source": [
    "A = np.array([[301,101,201,0], [41,51,21,11]]) \n",
    "a = A[0] > A[1]\n",
    "B = np.array([a, ~a])\n",
    "B[:, [1,3]] = B[:, [3,1]] \n",
    "B"
   ]
  },
  {
   "attachments": {},
   "cell_type": "markdown",
   "metadata": {},
   "source": [
    "Exercice 5"
   ]
  },
  {
   "cell_type": "code",
   "execution_count": 6,
   "metadata": {},
   "outputs": [
    {
     "data": {
      "text/plain": [
       "array([[ 3,  2,  3,  4,  7],\n",
       "       [ 8,  7,  8,  9, 12],\n",
       "       [13, 12, 13, 14, 17],\n",
       "       [18, 17, 18, 19, 22]])"
      ]
     },
     "execution_count": 6,
     "metadata": {},
     "output_type": "execute_result"
    }
   ],
   "source": [
    "A = np.array([[ 1, 2, 3, 4, 5],\n",
    "[ 6, 7, 8, 9, 10],\n",
    "[11, 12, 13, 14, 15],\n",
    "[16, 17, 18, 19, 20]])\n",
    "\n",
    "\n",
    "A[:,[0,-1]] += 2\n",
    "A"
   ]
  },
  {
   "attachments": {},
   "cell_type": "markdown",
   "metadata": {},
   "source": [
    "Exercice 6"
   ]
  },
  {
   "cell_type": "code",
   "execution_count": 7,
   "metadata": {},
   "outputs": [
    {
     "data": {
      "text/plain": [
       "array([[0., 9., 0., 9., 0.],\n",
       "       [0., 0., 0., 0., 0.],\n",
       "       [0., 0., 0., 0., 0.],\n",
       "       [0., 0., 0., 0., 0.]])"
      ]
     },
     "execution_count": 7,
     "metadata": {},
     "output_type": "execute_result"
    }
   ],
   "source": [
    "\n",
    "L = 5\n",
    "H = 4\n",
    "\n",
    "d = np.zeros((H,L))\n",
    "if ( L >= 2 and H >= 1):\n",
    "    d[0, [1, L - 2]] = 9.0\n",
    "else :\n",
    "    print(\"Erreur de dimmension\")\n",
    "d"
   ]
  },
  {
   "cell_type": "markdown",
   "metadata": {},
   "source": [
    "Exercice 7"
   ]
  },
  {
   "cell_type": "code",
   "execution_count": 8,
   "metadata": {},
   "outputs": [
    {
     "data": {
      "text/plain": [
       "array([0, 2, 4])"
      ]
     },
     "execution_count": 8,
     "metadata": {},
     "output_type": "execute_result"
    }
   ],
   "source": [
    "#7\n",
    "\n",
    "d = np.array([1,2,3,4,5,6,7,8,9,0])\n",
    "m = np.array([[0,1,0,1,0,0,0,0,0,1]])\n",
    "\n",
    "np.sort(d[np.squeeze(m) == 1])"
   ]
  },
  {
   "attachments": {},
   "cell_type": "markdown",
   "metadata": {},
   "source": [
    "Exercice 8"
   ]
  },
  {
   "cell_type": "code",
   "execution_count": 9,
   "metadata": {},
   "outputs": [
    {
     "data": {
      "image/png": "[encoded data removed]",
      "text/plain": [
       "<Figure size 640x480 with 1 Axes>"
      ]
     },
     "metadata": {},
     "output_type": "display_data"
    }
   ],
   "source": [
    "import matplotlib.pyplot as plt\n",
    "\n",
    "def f(x):\n",
    "    return x**2 - 1\n",
    "\n",
    "def g(x):\n",
    "    return 3*x**3 - 2*x**2 + x + 1\n",
    "\n",
    "x = np.linspace(-3, 3, 100)\n",
    "plt.plot(x, f(x), 'r', label='f(x)=x^2-1')\n",
    "plt.plot(x, g(x), 'b', label='f(x)=3x^3-2x^2+x+1')\n",
    "plt.legend()\n",
    "plt.show()"
   ]
  },
  {
   "attachments": {},
   "cell_type": "markdown",
   "metadata": {},
   "source": [
    "Exercice 9"
   ]
  },
  {
   "cell_type": "code",
   "execution_count": 10,
   "metadata": {},
   "outputs": [
    {
     "data": {
      "image/png": "[encoded data removed]",
      "text/plain": [
       "<Figure size 640x480 with 1 Axes>"
      ]
     },
     "metadata": {},
     "output_type": "display_data"
    }
   ],
   "source": [
    "intervalles = np.array([(0, 100), (101, 1000), (1001, 10000)])\n",
    "# On utilise np.fromiter avec la fonction sum et range (3 intervalles) pour creer 3 valeurs dans le tableau correspondant a la somme du nombre de nombres entiers.\n",
    "# Pour verifier si un nombre est premier il suffit de verifier qu'il n'est divisible par aucun nombre inferieur a sa racine\n",
    "#on rajoute +1 a fin car la fonction range exclut la derniere valeur de l'intervalle, et +1 a int(np.sqrt(i)) car la fonction arrondit a l'entier inferieur\n",
    "tarte = np.fromiter((sum(1 for i in range(debut, fin+1) if all(i % j != 0 for j in range(2, int(np.sqrt(i))+1))) for debut, fin in intervalles), dtype=int)\n",
    "quantites = tarte[:]\n",
    "couleurs = ['b', 'r', 'g']\n",
    "labels = ['{}-{}'.format(debut, fin) for debut, fin in intervalles]\n",
    "\n",
    "plt.pie(quantites, labels=labels, colors=couleurs)\n",
    "plt.legend()\n",
    "plt.show()"
   ]
  },
  {
   "attachments": {},
   "cell_type": "markdown",
   "metadata": {},
   "source": [
    "Exercice 10"
   ]
  },
  {
   "cell_type": "code",
   "execution_count": 11,
   "metadata": {},
   "outputs": [
    {
     "data": {
      "image/png": "[encoded data removed]",
      "text/plain": [
       "<Figure size 640x480 with 1 Axes>"
      ]
     },
     "metadata": {},
     "output_type": "display_data"
    }
   ],
   "source": [
    "intervalles = [(n*100, (n+1)*100-1) for n in range(10)]\n",
    "barres = np.fromiter((sum(1 for i in range(debut, fin+1) if all(i % j != 0 for j in range(2, int(np.sqrt(i))+1))) for debut, fin in intervalles), dtype=int)\n",
    "labels = ['{}-{}'.format(debut, fin) for debut, fin in intervalles]\n",
    "\n",
    "plt.bar(labels, barres)\n",
    "plt.xticks(rotation=45)\n",
    "plt.show()"
   ]
  },
  {
   "attachments": {},
   "cell_type": "markdown",
   "metadata": {},
   "source": [
    "Exercice 11"
   ]
  },
  {
   "cell_type": "code",
   "execution_count": 14,
   "metadata": {},
   "outputs": [
    {
     "ename": "ModuleNotFoundError",
     "evalue": "No module named 'pandas'",
     "output_type": "error",
     "traceback": [
      "\u001b[1;31m---------------------------------------------------------------------------\u001b[0m",
      "\u001b[1;31mModuleNotFoundError\u001b[0m                       Traceback (most recent call last)",
      "\u001b[1;32m~\\AppData\\Local\\Temp\\ipykernel_14792\\3678191556.py\u001b[0m in \u001b[0;36m<module>\u001b[1;34m\u001b[0m\n\u001b[1;32m----> 1\u001b[1;33m \u001b[1;32mimport\u001b[0m \u001b[0mpandas\u001b[0m \u001b[1;32mas\u001b[0m \u001b[0mpd\u001b[0m\u001b[1;33m\u001b[0m\u001b[1;33m\u001b[0m\u001b[0m\n\u001b[0m\u001b[0;32m      2\u001b[0m \u001b[1;33m\u001b[0m\u001b[0m\n\u001b[0;32m      3\u001b[0m df = pd.DataFrame({'continent' : ['Asie','AmNord','AmNord','Europe','Europe', 'Europe','Asie',\n\u001b[0;32m      4\u001b[0m 'Europe', 'Europe'],\n\u001b[0;32m      5\u001b[0m  'country' : ['Chine', 'Etats-Unis', 'Canada', 'Pologne', 'Roumanie', 'Italie', 'Inde',\n",
      "\u001b[1;31mModuleNotFoundError\u001b[0m: No module named 'pandas'"
     ]
    }
   ],
   "source": [
    "import pandas as pd\n",
    "\n",
    "df = pd.DataFrame({'continent' : ['Asie','AmNord','AmNord','Europe','Europe', 'Europe','Asie',\n",
    "'Europe', 'Europe'],\n",
    " 'country' : ['Chine', 'Etats-Unis', 'Canada', 'Pologne', 'Roumanie', 'Italie', 'Inde',\n",
    "'Allemagne', 'Ukraine'],\n",
    " 'PIB' : np.random.randint(1, 12 , 9),\n",
    " 'Membre' : np.random.choice(['O', 'N'], 9)}) \n",
    "\n",
    "# On utilise pivot_table() pour faire la somme du PIB pour chaque chaque continent selon les Membres des Nations Unies Virtuelles\n",
    "df2 = pd.pivot_table(df, values='PIB', index=['continent'], columns=['Membre'], aggfunc=np.sum)\n",
    "df2 = df2.rename(columns={'O': 'Membres', 'N': 'Non-membres'})\n",
    "print(df2['Membres'])"
   ]
  },
  {
   "attachments": {},
   "cell_type": "markdown",
   "metadata": {},
   "source": [
    "Exercice 12"
   ]
  },
  {
   "cell_type": "code",
   "execution_count": null,
   "metadata": {},
   "outputs": [],
   "source": [
    "print(df2)"
   ]
  },
  {
   "attachments": {},
   "cell_type": "markdown",
   "metadata": {},
   "source": [
    "Exercice 13"
   ]
  },
  {
   "cell_type": "code",
   "execution_count": null,
   "metadata": {},
   "outputs": [],
   "source": [
    "df = pd.DataFrame({'Ville':['limoges','limoges','limoges','limoges','limoges','brive','brive',\n",
    " 'brive','brive','brive','gueret','gueret','gueret'],\n",
    " 'Zone':[1,1,2,2,1,1,2,1,2,3,1,2,3],\n",
    " 'Sales':[10,16,21,37,20,40,37,51,17,24,11,30,20]})\n",
    "\n",
    "# Somme des ventes avec regroupement par ville puis pas zone\n",
    "totalVentes = df.groupby(['Ville', 'Zone'])['Sales'].sum()\n",
    "print(totalVentes)\n"
   ]
  },
  {
   "attachments": {},
   "cell_type": "markdown",
   "metadata": {},
   "source": [
    "Exercice 14"
   ]
  },
  {
   "cell_type": "code",
   "execution_count": null,
   "metadata": {},
   "outputs": [],
   "source": [
    "# Reinitialisation du DataFrame pour eviter que relancer l'exercice ne pose un probleme de doublons de colonnes de couples (ville, zone) en utilisant le DataFrame de l'exercice precedent\n",
    "df = pd.DataFrame({'Ville':['limoges','limoges','limoges','limoges','limoges','brive','brive',\n",
    " 'brive','brive','brive','gueret','gueret','gueret'],\n",
    " 'Zone':[1,1,2,2,1,1,2,1,2,3,1,2,3],\n",
    " 'Sales':[10,16,21,37,20,40,37,51,17,24,11,30,20]})\n",
    "\n",
    "# Creation de la colonne de couples (ville, zone) en concatenant la 1e et 2e valeur de chaque ligne du DataFrame df (correspondant a Ville et Zone) avec la fonction apply()\n",
    "df['(Ville, Zone)'] = df[['Ville', 'Zone']].apply(lambda x: (x[0], x[1]), axis=1)\n",
    "# Ventes maximales pour chaque couple (ville, zone)\n",
    "maxVentes = df.groupby(['(Ville, Zone)'])['Sales'].max()\n",
    "print(maxVentes)\n",
    "# Il etait aussi possible d'afficher simplement maxVentes avec maxVentes = df.groupby(['Ville', 'Zone'])['Sales'].max() mais il nous a ete difficile de comprendre la volonte exacte de la consigne"
   ]
  },
  {
   "attachments": {},
   "cell_type": "markdown",
   "metadata": {},
   "source": [
    "Exercice 15"
   ]
  },
  {
   "cell_type": "code",
   "execution_count": null,
   "metadata": {},
   "outputs": [],
   "source": [
    "df = pd.DataFrame({\n",
    "    \"Nom\": [\"John\", \"Steve\", \"Martin\", \"Martin\", \"Steve\", \"Martin\"],\n",
    "    \"Ville\": [\"Limoges\", \"Limoges\", \"Brive\", \"Limoges\", \"Limoges\", \"Brive\"],\n",
    "    \"Ventes\": [130, 121, 126, 144, 120, 110]\n",
    "})\n",
    "\n",
    "# Ajout de la colonne somme des ventes par paire (Nom, Ville)\n",
    "df['Somme des ventes'] = df.groupby(['Nom', 'Ville'])['Ventes'].transform('sum')\n",
    "\n",
    "# Affichage du DataFrame modifié\n",
    "print(df)"
   ]
  }
 ],
 "metadata": {
  "kernelspec": {
   "display_name": "Python 3",
   "language": "python",
   "name": "python3"
  },
  "language_info": {
   "codemirror_mode": {
    "name": "ipython",
    "version": 3
   },
   "file_extension": ".py",
   "mimetype": "text/x-python",
   "name": "python",
   "nbconvert_exporter": "python",
   "pygments_lexer": "ipython3",
   "version": "3.7.7"
  },
  "orig_nbformat": 4
 },
 "nbformat": 4,
 "nbformat_minor": 2
}
